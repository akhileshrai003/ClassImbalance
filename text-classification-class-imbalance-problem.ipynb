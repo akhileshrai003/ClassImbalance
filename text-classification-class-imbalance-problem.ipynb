{
 "cells": [
  {
   "cell_type": "code",
   "execution_count": 1,
   "metadata": {
    "_cell_guid": "b1076dfc-b9ad-4769-8c92-a6c4dae69d19",
    "_uuid": "8f2839f25d086af736a60e9eeb907d3b93b6e0e5"
   },
   "outputs": [
    {
     "name": "stdout",
     "output_type": "stream",
     "text": [
      "['embeddings', 'train.csv', 'sample_submission.csv', 'test.csv']\n"
     ]
    }
   ],
   "source": [
    "# This Python 3 environment comes with many helpful analytics libraries installed\n",
    "# It is defined by the kaggle/python docker image: https://github.com/kaggle/docker-python\n",
    "# For example, here's several helpful packages to load in \n",
    "\n",
    "import numpy as np # linear algebra\n",
    "import pandas as pd # data processing, CSV file I/O (e.g. pd.read_csv)\n",
    "\n",
    "# Input data files are available in the \"../input/\" directory.\n",
    "# For example, running this (by clicking run or pressing Shift+Enter) will list the files in the input directory\n",
    "\n",
    "import os\n",
    "print(os.listdir(\"../input\"))\n",
    "\n",
    "# Any results you write to the current directory are saved as output."
   ]
  },
  {
   "cell_type": "markdown",
   "metadata": {
    "_uuid": "10bf7ff482058e6ba14cf49e1c6b43e7d8a7e091"
   },
   "source": [
    "lets import few important libraries and packages"
   ]
  },
  {
   "cell_type": "code",
   "execution_count": 2,
   "metadata": {
    "_uuid": "cae73b72b0781cf6d8f1c76f12a906b46640de95"
   },
   "outputs": [],
   "source": [
    "import seaborn as sns # for intractve graphs\n"
   ]
  },
  {
   "cell_type": "code",
   "execution_count": 3,
   "metadata": {
    "_cell_guid": "79c7e3d0-c299-4dcb-8224-4455121ee9b0",
    "_uuid": "d629ff2d2480ee46fbb7e2d37f6b5fab8052498a"
   },
   "outputs": [],
   "source": [
    "import matplotlib.pyplot as plt\n",
    "plt.style.use(\"ggplot\")\n",
    "%matplotlib inline\n"
   ]
  },
  {
   "cell_type": "markdown",
   "metadata": {
    "_uuid": "ddc2d0401d501c0778410b4d8005c323c7564d73"
   },
   "source": [
    "Reading our data using pandas"
   ]
  },
  {
   "cell_type": "code",
   "execution_count": 4,
   "metadata": {
    "_uuid": "8e040df78f6bd6981a9adbc2728fe8dab2258952"
   },
   "outputs": [],
   "source": [
    "train_data = pd.read_csv(\"../input/train.csv\", header=0)\n",
    "test_data = pd.read_csv(\"../input/test.csv\", header=0)\n"
   ]
  },
  {
   "cell_type": "markdown",
   "metadata": {
    "_uuid": "c5ec9a2da0aea9c151de8b50a9b51069bcfb565a"
   },
   "source": [
    "Lets describe the data "
   ]
  },
  {
   "cell_type": "code",
   "execution_count": 5,
   "metadata": {
    "_uuid": "73f89497f338daf2f03c9fe02202cbebef72412b"
   },
   "outputs": [
    {
     "name": "stdout",
     "output_type": "stream",
     "text": [
      "<class 'pandas.core.frame.DataFrame'>\n",
      "RangeIndex: 1306122 entries, 0 to 1306121\n",
      "Data columns (total 3 columns):\n",
      "qid              1306122 non-null object\n",
      "question_text    1306122 non-null object\n",
      "target           1306122 non-null int64\n",
      "dtypes: int64(1), object(2)\n",
      "memory usage: 29.9+ MB\n"
     ]
    }
   ],
   "source": [
    "train_data.info()"
   ]
  },
  {
   "cell_type": "markdown",
   "metadata": {
    "_uuid": "588420d3b4c3e20ff9375afcffa1da2dd9a0f17d"
   },
   "source": [
    "We have 1306122 rows of data and lets see if we have any missing values"
   ]
  },
  {
   "cell_type": "code",
   "execution_count": 6,
   "metadata": {
    "_uuid": "363c3a68f38e057fdb6807ba2abace3f8f4d02c6"
   },
   "outputs": [
    {
     "data": {
      "text/plain": [
       "qid              0\n",
       "question_text    0\n",
       "target           0\n",
       "dtype: int64"
      ]
     },
     "execution_count": 6,
     "metadata": {},
     "output_type": "execute_result"
    }
   ],
   "source": [
    "train_data.isnull().sum()"
   ]
  },
  {
   "cell_type": "markdown",
   "metadata": {
    "_uuid": "4097862a1fe2dd998115e99b66e63f608516f934"
   },
   "source": [
    "Good!! we don't have any missing values, don't have to handle them now. Moving further lets see if have class unbalance problem"
   ]
  },
  {
   "cell_type": "code",
   "execution_count": 7,
   "metadata": {
    "_uuid": "30cd3f223a8283130989d5a5432c16bd24e379d7"
   },
   "outputs": [
    {
     "data": {
      "text/plain": [
       "<matplotlib.axes._subplots.AxesSubplot at 0x7fdd75829898>"
      ]
     },
     "execution_count": 7,
     "metadata": {},
     "output_type": "execute_result"
    },
    {
     "data": {
      "image/png": "[encoded data removed]",
      "text/plain": [
       "<Figure size 432x288 with 1 Axes>"
      ]
     },
     "metadata": {},
     "output_type": "display_data"
    }
   ],
   "source": [
    "sns.countplot(\"target\",data=train_data)\n"
   ]
  },
  {
   "cell_type": "markdown",
   "metadata": {
    "_uuid": "472e52c1c6605ce415cd4ad9747153fd2faf7b0b"
   },
   "source": [
    "Ohh my gosh!! we have class imbalance problem, need to balance it otherwise we will get skewed results."
   ]
  },
  {
   "cell_type": "code",
   "execution_count": 8,
   "metadata": {
    "_uuid": "7959630719e60d7b9432d08c54c1ebb61f84c219"
   },
   "outputs": [
    {
     "name": "stdout",
     "output_type": "stream",
     "text": [
      "percentage of normal transacation is 93.81298224821265\n",
      "percentage of fraud transacation 6.187017751787352\n"
     ]
    }
   ],
   "source": [
    "# now let us check in the number of Percentage\n",
    "Count_Normal_transacation = len(train_data[train_data[\"target\"]==0]) # normal transaction are repersented by 0\n",
    "Count_insincere_transacation = len(train_data[train_data[\"target\"]==1]) # fraud by 1\n",
    "Percentage_of_Normal_transacation = Count_Normal_transacation/(Count_Normal_transacation+Count_insincere_transacation)\n",
    "print(\"percentage of normal transacation is\",Percentage_of_Normal_transacation*100)\n",
    "Percentage_of_insincere_transacation= Count_insincere_transacation/(Count_Normal_transacation+Count_insincere_transacation)\n",
    "print(\"percentage of fraud transacation\",Percentage_of_insincere_transacation*100)"
   ]
  },
  {
   "cell_type": "markdown",
   "metadata": {
    "_uuid": "cffc68366ecde41c210efd320815d5c2f6fd4616"
   },
   "source": [
    "Now handling the class imbalance problem, we are using a function to tackle this, so just to save some processing time we would be taking an assumption that the training data is class=1 is equal to class=0, means we take equal number of data of both clases."
   ]
  },
  {
   "cell_type": "code",
   "execution_count": 9,
   "metadata": {
    "_uuid": "f163e93bfc420fd85ac2fe25de61b61d409c6a19"
   },
   "outputs": [],
   "source": [
    "insincere_indices= np.array(train_data[train_data.target==1].index)\n",
    "normal_indices = np.array(train_data[train_data.target==0].index)\n",
    "#now let us a define a function for make undersample data with different proportion\n",
    "#different proportion means with different proportion of normal classes of data\n",
    "def undersample(normal_indices,insincere_indices,times):#times denote the normal data = times*fraud data\n",
    "    Normal_indices_undersample = np.array(np.random.choice(normal_indices,(times*Count_insincere_transacation),replace=False))\n",
    "    print(len(Normal_indices_undersample))\n",
    "    undersample_data= np.concatenate([insincere_indices,Normal_indices_undersample])\n",
    "\n",
    "    undersample_data = train_data.iloc[undersample_data,:]\n",
    "    #print(undersample_data)\n",
    "    print(len(undersample_data))\n",
    "\n",
    "    print(\"the normal transacation proportion is :\",len(undersample_data[undersample_data.target==0])/len(undersample_data))\n",
    "    print(\"the fraud transacation proportion is :\",len(undersample_data[undersample_data.target==1])/len(undersample_data))\n",
    "    print(\"total number of record in resampled data is:\",len(undersample_data))\n",
    "    return(undersample_data)\n"
   ]
  },
  {
   "cell_type": "markdown",
   "metadata": {
    "_uuid": "f050760cb66eeb8daadb376e54d1bb9bb83d5840"
   },
   "source": [
    "You can handle change the last parameter of the function for changing the proportion of the classes, as of now I have taken equal proportion."
   ]
  },
  {
   "cell_type": "code",
   "execution_count": 10,
   "metadata": {
    "_uuid": "e2d0c05fb8dbf435d8a609dad13eb8ef0a5e4d13"
   },
   "outputs": [
    {
     "name": "stdout",
     "output_type": "stream",
     "text": [
      "80810\n",
      "161620\n",
      "the normal transacation proportion is : 0.5\n",
      "the fraud transacation proportion is : 0.5\n",
      "total number of record in resampled data is: 161620\n"
     ]
    }
   ],
   "source": [
    "Undersample_data = undersample(normal_indices,insincere_indices,1)"
   ]
  },
  {
   "cell_type": "code",
   "execution_count": 11,
   "metadata": {
    "_uuid": "cbd6806a476a7dceda61441dff7c19aeaad8865f"
   },
   "outputs": [],
   "source": [
    "questions=Undersample_data.iloc[:,1].values.tolist()\n",
    "labels=Undersample_data.iloc[:,2].values.tolist()"
   ]
  },
  {
   "cell_type": "markdown",
   "metadata": {
    "_uuid": "b6ce2c1591867da654f46cfc511a3ae11b4eb9a8"
   },
   "source": [
    "**Now we can proceed with handing NLP and Embeddings.**"
   ]
  },
  {
   "cell_type": "code",
   "execution_count": 12,
   "metadata": {
    "_uuid": "62173225ad0dc6a1dc9fd3c8184c38f82f7c1b3c"
   },
   "outputs": [],
   "source": []
  },
  {
   "cell_type": "code",
   "execution_count": 12,
   "metadata": {
    "_uuid": "938d1ff8b5d7d3bedbb0b67ac9d23595fa4cfc55"
   },
   "outputs": [],
   "source": []
  }
 ],
 "metadata": {
  "kernelspec": {
   "display_name": "Python 3",
   "language": "python",
   "name": "python3"
  },
  "language_info": {
   "codemirror_mode": {
    "name": "ipython",
    "version": 3
   },
   "file_extension": ".py",
   "mimetype": "text/x-python",
   "name": "python",
   "nbconvert_exporter": "python",
   "pygments_lexer": "ipython3",
   "version": "3.6.6"
  }
 },
 "nbformat": 4,
 "nbformat_minor": 1
}
